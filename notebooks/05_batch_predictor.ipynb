{
 "cells": [
  {
   "cell_type": "markdown",
   "id": "0ae00aef-ad9e-4b97-8e05-5dac497a17aa",
   "metadata": {},
   "source": [
    "# Test Predictor\n",
    "Objective: Test batch predictor"
   ]
  },
  {
   "cell_type": "markdown",
   "id": "c8366f9b-645d-43da-8f13-35debe4aee73",
   "metadata": {},
   "source": [
    "## 1. Imports"
   ]
  },
  {
   "cell_type": "code",
   "execution_count": 3,
   "id": "8b227194-07a5-4fd7-a702-2821d3acb161",
   "metadata": {},
   "outputs": [],
   "source": [
    "import sys\n",
    "import os\n",
    "\n",
    "project_root = os.path.abspath(os.path.join(os.getcwd(), '..'))\n",
    "if project_root not in sys.path:\n",
    "    sys.path.append(project_root)\n",
    "\n",
    "from src.batch.predictor import BatchPredictor"
   ]
  },
  {
   "cell_type": "markdown",
   "id": "a8f7ea51-9a01-40e5-a0d4-701cc67e733c",
   "metadata": {},
   "source": [
    "## 2. Data and Model"
   ]
  },
  {
   "cell_type": "code",
   "execution_count": 5,
   "id": "a459a81c-4280-444a-b727-c52606fc7ab4",
   "metadata": {},
   "outputs": [],
   "source": [
    "test_date = \"2020-06-15\"\n",
    "model_name = \"solar-forecasting-prod\""
   ]
  },
  {
   "cell_type": "markdown",
   "id": "dc3d2c4e-a232-41c8-9bd6-51036d1304eb",
   "metadata": {},
   "source": [
    "## 3. Predictor instance"
   ]
  },
  {
   "cell_type": "code",
   "execution_count": 9,
   "id": "739707bd-d0f4-4526-9738-a128c5db6ad9",
   "metadata": {},
   "outputs": [
    {
     "name": "stderr",
     "output_type": "stream",
     "text": [
      "INFO:src.utils.mlflow_utils:MLflow tracking URI set to: http://localhost:5000\n",
      "INFO:src.utils.mlflow_utils:MLflow server will handle S3 artifacts automatically\n",
      "INFO:src.utils.mlflow_utils:MLflow tracking URI set to: http://localhost:5000\n",
      "INFO:src.utils.mlflow_utils:MLflow server will handle S3 artifacts automatically\n",
      "INFO:src.model.registry:ModelRegistry initialized with MLflow backend\n",
      "INFO:src.batch.predictor:BatchPredictor initialized for model: solar-forecasting-prod\n"
     ]
    },
    {
     "data": {
      "text/plain": [
       "False"
      ]
     },
     "execution_count": 9,
     "metadata": {},
     "output_type": "execute_result"
    }
   ],
   "source": [
    "predictor = BatchPredictor(model_name=model_name)\n",
    "predictor.is_loaded"
   ]
  },
  {
   "cell_type": "markdown",
   "id": "1b9b4889-d636-492b-8fc9-77bca437ebb8",
   "metadata": {},
   "source": [
    "## 4. Run Predictor"
   ]
  },
  {
   "cell_type": "code",
   "execution_count": 10,
   "id": "0b83a9f3-6e12-4141-b128-63726870240c",
   "metadata": {},
   "outputs": [
    {
     "name": "stderr",
     "output_type": "stream",
     "text": [
      "INFO:src.batch.predictor:Starting batch prediction workflow for 2020-06-15\n",
      "INFO:src.batch.predictor:Loading production model: solar-forecasting-prod\n",
      "INFO:src.model.registry:Loading model package: solar-forecasting-prod\n",
      "INFO:src.model.registry:Loading from stage: Production\n",
      "INFO:src.model.registry:Loading model from URI: models:/solar-forecasting-prod/Production\n",
      "INFO:botocore.credentials:Found credentials in environment variables.\n"
     ]
    },
    {
     "data": {
      "application/vnd.jupyter.widget-view+json": {
       "model_id": "97d5c8e0c0604544870f34d704e6f2ec",
       "version_major": 2,
       "version_minor": 0
      },
      "text/plain": [
       "Downloading artifacts:   0%|          | 0/5 [00:00<?, ?it/s]"
      ]
     },
     "metadata": {},
     "output_type": "display_data"
    },
    {
     "name": "stderr",
     "output_type": "stream",
     "text": [
      "INFO:src.model.registry:Looking for preprocessor at: /workspaces/solar-forecasting-mlops/artifacts/preprocessor_78ee61ff16e24299806b4fa5571ab45d.pkl\n",
      "INFO:src.model.registry:Found preprocessor file: preprocessor_78ee61ff16e24299806b4fa5571ab45d.pkl\n",
      "INFO:src.model.registry:Loading preprocessor from: /workspaces/solar-forecasting-mlops/artifacts/preprocessor_78ee61ff16e24299806b4fa5571ab45d.pkl\n",
      "INFO:src.data.preprocessor:Preprocessor loaded from: /workspaces/solar-forecasting-mlops/artifacts/preprocessor_78ee61ff16e24299806b4fa5571ab45d.pkl\n",
      "INFO:src.model.registry:Successfully loaded model package solar-forecasting-prod\n",
      "INFO:src.model.registry:Model type: MultiOutputRegressor\n",
      "INFO:src.model.registry:Preprocessor features: 31\n",
      "INFO:src.batch.predictor:Production model loaded successfully\n",
      "INFO:src.batch.predictor:Model type: MultiOutputRegressor\n",
      "INFO:src.batch.predictor:Features: 31\n",
      "INFO:src.batch.predictor:Forecast horizon: 24h\n",
      "INFO:src.batch.predictor:Generating 24h forecast for date: 2020-06-15\n",
      "INFO:src.data.preprocessor:Loading solar generation data...\n",
      "INFO:src.data.preprocessor:Resampling to hourly frequency...\n",
      "INFO:src.data.preprocessor:Removed 20 NaN rows after resampling\n",
      "INFO:src.data.preprocessor:Data loaded successfully: 796 records from 2020-05-15 00:00:00 to 2020-06-17 23:00:00\n",
      "INFO:src.data.preprocessor:Preparing midnight prediction for 2020-06-15\n",
      "INFO:src.data.preprocessor:Creating historical lag features...\n",
      "INFO:src.data.preprocessor:Created 5 lag features and 2 rolling features\n",
      "INFO:src.data.preprocessor:Creating temporal features for future dates...\n",
      "INFO:src.data.preprocessor:Created 16 temporal features\n",
      "INFO:src.data.preprocessor:Midnight prediction features prepared: (2, 32)\n",
      "INFO:src.batch.predictor:Prediction successful for 2020-06-15\n",
      "INFO:src.batch.predictor:Peak power: 601.8 kW at hour 9\n",
      "INFO:src.batch.predictor:Total energy: 9322.8 kWh\n",
      "INFO:src.batch.predictor:Batch prediction workflow completed successfully\n"
     ]
    }
   ],
   "source": [
    "results = predictor.run_batch_prediction(test_date)"
   ]
  },
  {
   "cell_type": "code",
   "execution_count": 11,
   "id": "ad1be6d8-4602-495f-abf4-035270d3dd81",
   "metadata": {},
   "outputs": [
    {
     "name": "stdout",
     "output_type": "stream",
     "text": [
      "\n",
      "==================================================\n",
      "Batch Prediction Results for 2020-06-15\n",
      "==================================================\n",
      "Peak Power: 601.8 kW (Hour 9)\n",
      "Total Energy: 9322.8 kWh\n",
      "Daylight Energy: 5297.0 kWh\n",
      "Features Used: 31\n",
      "Model: solar-forecasting-prod\n",
      "==================================================\n"
     ]
    }
   ],
   "source": [
    "print(f\"\\n{'='*50}\")\n",
    "print(f\"Batch Prediction Results for {test_date}\")\n",
    "print(f\"{'='*50}\")\n",
    "print(f\"Peak Power: {results['peak_power']:.1f} kW (Hour {results['peak_hour']})\")\n",
    "print(f\"Total Energy: {results['total_energy']:.1f} kWh\")\n",
    "print(f\"Daylight Energy: {results['daylight_energy']:.1f} kWh\")\n",
    "print(f\"Features Used: {results['features_count']}\")\n",
    "print(f\"Model: {results['model_name']}\")\n",
    "print(f\"{'='*50}\")"
   ]
  },
  {
   "cell_type": "code",
   "execution_count": null,
   "id": "5edd2e58-f4e2-46e5-88ea-a0c00ed62821",
   "metadata": {},
   "outputs": [],
   "source": []
  }
 ],
 "metadata": {
  "kernelspec": {
   "display_name": "Python 3 (ipykernel)",
   "language": "python",
   "name": "python3"
  },
  "language_info": {
   "codemirror_mode": {
    "name": "ipython",
    "version": 3
   },
   "file_extension": ".py",
   "mimetype": "text/x-python",
   "name": "python",
   "nbconvert_exporter": "python",
   "pygments_lexer": "ipython3",
   "version": "3.11.13"
  }
 },
 "nbformat": 4,
 "nbformat_minor": 5
}
