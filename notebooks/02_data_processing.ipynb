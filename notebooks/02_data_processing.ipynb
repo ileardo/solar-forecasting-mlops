{
 "cells": [
  {
   "cell_type": "markdown",
   "id": "d2b8ec5e",
   "metadata": {},
   "source": [
    "# Data Processing \n",
    "Objective: Test preprocessing script "
   ]
  },
  {
   "cell_type": "markdown",
   "id": "5789af2d",
   "metadata": {},
   "source": [
    "## 1. Setup and imports"
   ]
  },
  {
   "cell_type": "code",
   "execution_count": 1,
   "id": "42e2d40f-8d09-4438-9de5-15d6a33b1a75",
   "metadata": {},
   "outputs": [],
   "source": [
    "from pathlib import Path\n",
    "import pandas as pd\n",
    "import numpy as np\n",
    "import sys\n",
    "import os\n",
    "\n",
    "# Add project root to path\n",
    "project_root = os.path.abspath(os.path.join(os.getcwd(), '..'))\n",
    "if project_root not in sys.path:\n",
    "    sys.path.append(project_root)"
   ]
  },
  {
   "cell_type": "code",
   "execution_count": 2,
   "id": "6ca51055-316c-46fe-ada2-03a5f96453b6",
   "metadata": {},
   "outputs": [],
   "source": [
    "from src.data.preprocessor import SolarForecastingPreprocessor"
   ]
  },
  {
   "cell_type": "markdown",
   "id": "4e437d11-6706-459c-80a9-08594609d80d",
   "metadata": {},
   "source": [
    "## 2. Create Preprocessor Instance"
   ]
  },
  {
   "cell_type": "code",
   "execution_count": 3,
   "id": "4b7b5b3a-a5a2-4352-a227-92ca99e0fb22",
   "metadata": {},
   "outputs": [
    {
     "name": "stderr",
     "output_type": "stream",
     "text": [
      "INFO:src.data.preprocessor:Initialized SolarForecastingPreprocessor: horizon=24h, lags=[1, 2, 3, 7, 30] days, rolling_windows=[7, 30] days, scaling=standard\n"
     ]
    }
   ],
   "source": [
    "# Initialize with time series parameters\n",
    "preprocessor = SolarForecastingPreprocessor(\n",
    "    forecast_horizon=24,\n",
    "    lag_days=[1, 2, 3, 7, 30],\n",
    "    rolling_windows=[7, 30],\n",
    "    scaling_method='standard'\n",
    ")"
   ]
  },
  {
   "cell_type": "code",
   "execution_count": 4,
   "id": "5f9a19e9-4162-45a1-a539-8c1d05b8d1bc",
   "metadata": {},
   "outputs": [
    {
     "name": "stdout",
     "output_type": "stream",
     "text": [
      "Preprocessor fitted: False\n",
      "Forecast horizon: 24 hours\n",
      "Lag days: [1, 2, 3, 7, 30]\n",
      "Rolling windows: [7, 30] days\n"
     ]
    }
   ],
   "source": [
    "print(f\"Preprocessor fitted: {preprocessor.is_fitted}\")\n",
    "print(f\"Forecast horizon: {preprocessor.forecast_horizon} hours\")\n",
    "print(f\"Lag days: {preprocessor.lag_days}\")\n",
    "print(f\"Rolling windows: {preprocessor.rolling_windows} days\")"
   ]
  },
  {
   "cell_type": "markdown",
   "id": "77f37f69-a285-4ca1-b795-31a10f41ac55",
   "metadata": {},
   "source": [
    "## 3. Load and Validate Data"
   ]
  },
  {
   "cell_type": "code",
   "execution_count": 5,
   "id": "95ea176b-0d43-4b61-83b8-0212e089f6e8",
   "metadata": {},
   "outputs": [
    {
     "name": "stderr",
     "output_type": "stream",
     "text": [
      "INFO:src.data.preprocessor:Loading solar generation data...\n",
      "INFO:src.data.preprocessor:Resampling to hourly frequency...\n",
      "INFO:src.data.preprocessor:Removed 20 NaN rows after resampling\n",
      "INFO:src.data.preprocessor:Data loaded successfully: 796 records from 2020-05-15 00:00:00 to 2020-06-17 23:00:00\n"
     ]
    },
    {
     "name": "stdout",
     "output_type": "stream",
     "text": [
      "Data loaded: (796, 2)\n",
      "Date range: 2020-05-15 00:00:00 to 2020-06-17 23:00:00\n",
      "Total days: 33\n"
     ]
    }
   ],
   "source": [
    "# Load data (no weather data used in features!)\n",
    "df, load_metadata = preprocessor.load_and_prepare_data(\n",
    "    \"../data/raw/Plant_1_Generation_Data.csv\",\n",
    "    \"../data/raw/Plant_1_Weather_Sensor_Data.csv\"  # Only for validation\n",
    ")\n",
    "\n",
    "print(f\"Data loaded: {df.shape}\")\n",
    "print(f\"Date range: {load_metadata['date_range']['start']} to {load_metadata['date_range']['end']}\")\n",
    "print(f\"Total days: {load_metadata['total_days']}\")"
   ]
  },
  {
   "cell_type": "markdown",
   "id": "0eb09636-b953-48a9-bd8b-477a03a6381c",
   "metadata": {},
   "source": [
    "## 4. Validate Forecasting Setup"
   ]
  },
  {
   "cell_type": "code",
   "execution_count": 6,
   "id": "1a9bd9a9-7048-49b4-a894-cf85391d018e",
   "metadata": {},
   "outputs": [
    {
     "name": "stderr",
     "output_type": "stream",
     "text": [
      "INFO:src.data.preprocessor:Validating forecasting setup for data leakage...\n",
      "INFO:src.data.preprocessor:✅ Forecasting setup validation PASSED\n"
     ]
    },
    {
     "name": "stdout",
     "output_type": "stream",
     "text": [
      "Validation Status: PASSED\n",
      "No weather leakage: True\n",
      "Sufficient history: True\n",
      "Data quality score: 4 gaps\n"
     ]
    }
   ],
   "source": [
    "# CRITICAL: Check for data leakage\n",
    "validation_report = preprocessor.validate_forecasting_setup(df)\n",
    "\n",
    "print(f\"Validation Status: {'PASSED' if validation_report['overall_valid'] else '❌ FAILED'}\")\n",
    "print(f\"No weather leakage: {validation_report['leakage_checks']['no_contemporary_weather']}\")\n",
    "print(f\"Sufficient history: {validation_report['temporal_validation']['sufficient_history']}\")\n",
    "print(f\"Data quality score: {validation_report['data_quality']['temporal_gaps']['total_gaps']} gaps\")"
   ]
  },
  {
   "cell_type": "markdown",
   "id": "693ba838-298b-4ee3-84a4-1af63170288f",
   "metadata": {},
   "source": [
    "## 5. Create Forecasting Dataset (Fit Transform)"
   ]
  },
  {
   "cell_type": "code",
   "execution_count": 7,
   "id": "1c9bcfd6-a536-4833-9336-e6c7a47e62f2",
   "metadata": {},
   "outputs": [
    {
     "name": "stderr",
     "output_type": "stream",
     "text": [
      "INFO:src.data.preprocessor:Starting complete forecasting preprocessing pipeline...\n",
      "INFO:src.data.preprocessor:Loading solar generation data...\n",
      "INFO:src.data.preprocessor:Resampling to hourly frequency...\n",
      "INFO:src.data.preprocessor:Removed 20 NaN rows after resampling\n",
      "INFO:src.data.preprocessor:Data loaded successfully: 796 records from 2020-05-15 00:00:00 to 2020-06-17 23:00:00\n",
      "INFO:src.data.preprocessor:Validating forecasting setup for data leakage...\n",
      "INFO:src.data.preprocessor:✅ Forecasting setup validation PASSED\n",
      "INFO:src.data.preprocessor:Creating forecasting dataset...\n",
      "INFO:src.data.preprocessor:Creating historical lag features...\n",
      "INFO:src.data.preprocessor:Created 5 lag features and 2 rolling features\n",
      "INFO:src.data.preprocessor:Creating temporal features for future dates...\n",
      "INFO:src.data.preprocessor:Created 16 temporal features\n",
      "INFO:src.data.preprocessor:Forecasting dataset created: X shape (52, 32), y shape (52, 24)\n",
      "INFO:src.data.preprocessor:Removed 744 rows with missing values\n",
      "INFO:src.data.preprocessor:Preprocessing complete! X shape: (52, 32), y shape: (52, 24)\n",
      "INFO:src.data.preprocessor:Features: 31, Targets: 24\n"
     ]
    },
    {
     "name": "stdout",
     "output_type": "stream",
     "text": [
      "Features (X) shape: (52, 32)\n",
      "Targets (y) shape: (52, 24)\n",
      "Preprocessor fitted: True\n"
     ]
    }
   ],
   "source": [
    "# Create X (features) and y (24h targets)\n",
    "X, y, metadata = preprocessor.fit_transform(\n",
    "    \"../data/raw/Plant_1_Generation_Data.csv\",\n",
    "    \"../data/raw/Plant_1_Weather_Sensor_Data.csv\"\n",
    ")\n",
    "\n",
    "print(f\"Features (X) shape: {X.shape}\")\n",
    "print(f\"Targets (y) shape: {y.shape}\")\n",
    "print(f\"Preprocessor fitted: {preprocessor.is_fitted}\")"
   ]
  },
  {
   "cell_type": "code",
   "execution_count": 8,
   "id": "122421c1-e24b-4dfa-ad6f-3dbaf488cc01",
   "metadata": {},
   "outputs": [
    {
     "data": {
      "text/plain": [
       "True"
      ]
     },
     "execution_count": 8,
     "metadata": {},
     "output_type": "execute_result"
    }
   ],
   "source": [
    "preprocessor.is_fitted"
   ]
  },
  {
   "cell_type": "markdown",
   "id": "a649c676-116a-4f23-93d8-7a184a5a8e29",
   "metadata": {},
   "source": [
    "## 6. Analyze Features and Targets"
   ]
  },
  {
   "cell_type": "code",
   "execution_count": 9,
   "id": "bbf08dcf-cf9b-474f-8273-a9e9f91865e9",
   "metadata": {},
   "outputs": [
    {
     "name": "stdout",
     "output_type": "stream",
     "text": [
      "FEATURE ANALYSIS:\n",
      "Total features: 31\n",
      "Lag features: 5\n",
      "Rolling features: 6\n",
      "Temporal features: 16\n"
     ]
    }
   ],
   "source": [
    "# Feature analysis\n",
    "print(\"FEATURE ANALYSIS:\")\n",
    "print(f\"Total features: {len(preprocessor.get_feature_names())}\")\n",
    "print(f\"Lag features: {metadata['feature_info']['lag_features']}\")\n",
    "print(f\"Rolling features: {metadata['feature_info']['rolling_features']}\")\n",
    "print(f\"Temporal features: {metadata['feature_info']['temporal_features']}\")"
   ]
  },
  {
   "cell_type": "code",
   "execution_count": 10,
   "id": "1500e2e2-6aa7-432f-8936-f3e50849b750",
   "metadata": {},
   "outputs": [
    {
     "name": "stdout",
     "output_type": "stream",
     "text": [
      "\n",
      "FEATURE NAMES:\n",
      "   1. ac_power_lag_1d\n",
      "   2. ac_power_lag_2d\n",
      "   3. ac_power_lag_3d\n",
      "   4. ac_power_lag_7d\n",
      "   5. ac_power_lag_30d\n",
      "   6. rolling_mean_7d\n",
      "   7. rolling_std_7d\n",
      "   8. rolling_max_7d\n",
      "   9. rolling_mean_30d\n",
      "  10. rolling_std_30d\n",
      "  11. rolling_max_30d\n",
      "  12. same_hour_last_week\n",
      "  13. same_hour_2_weeks_ago\n",
      "  14. same_weekday_last_week\n",
      "  15. hour_of_day\n",
      "  16. day_of_week\n",
      "  17. day_of_year\n",
      "  18. month\n",
      "  19. quarter\n",
      "  20. is_daylight\n",
      "  21. is_peak_solar\n",
      "  22. is_weekend\n",
      "  23. hour_sin\n",
      "  24. hour_cos\n",
      "  25. day_of_year_sin\n",
      "  26. day_of_year_cos\n",
      "  27. day_of_week_sin\n",
      "  28. day_of_week_cos\n",
      "  29. solar_elevation_proxy\n",
      "  30. season_spring\n",
      "  31. season_summer\n"
     ]
    }
   ],
   "source": [
    "# Feature names (NO WEATHER FEATURES)\n",
    "feature_names = preprocessor.get_feature_names()\n",
    "print(\"\\nFEATURE NAMES:\")\n",
    "for i, name in enumerate(feature_names):\n",
    "    print(f\"  {i+1:2d}. {name}\")"
   ]
  },
  {
   "cell_type": "code",
   "execution_count": 11,
   "id": "321c63be-7392-495b-aabe-fb5d0793f6d6",
   "metadata": {},
   "outputs": [
    {
     "name": "stdout",
     "output_type": "stream",
     "text": [
      "\n",
      "TARGET ANALYSIS:\n",
      "Target columns: ['ac_power_1h', 'ac_power_2h', 'ac_power_3h', 'ac_power_4h', 'ac_power_5h']...['ac_power_23h', 'ac_power_24h']\n",
      "Target value range: 0.00 to 1091.99\n",
      "Target mean: 261.04\n"
     ]
    }
   ],
   "source": [
    "# Target analysis\n",
    "print(\"\\nTARGET ANALYSIS:\")\n",
    "print(f\"Target columns: {list(y.columns)[:5]}...{list(y.columns)[-2:]}\")\n",
    "print(f\"Target value range: {y.min().min():.2f} to {y.max().max():.2f}\")\n",
    "print(f\"Target mean: {y.mean().mean():.2f}\")"
   ]
  },
  {
   "cell_type": "markdown",
   "id": "bdf0db7a-b767-4573-9a3e-cd561e43ba69",
   "metadata": {},
   "source": [
    "## 7. Sample Data Inspection"
   ]
  },
  {
   "cell_type": "code",
   "execution_count": 12,
   "id": "30188b24-638d-4f40-9e46-c5cb893ea3d4",
   "metadata": {},
   "outputs": [
    {
     "name": "stdout",
     "output_type": "stream",
     "text": [
      "SAMPLE FEATURES (X):\n",
      "            DATE_TIME  ac_power_lag_1d  ac_power_lag_2d  ac_power_lag_3d  \\\n",
      "0 2020-06-14 20:00:00        -0.761891        -0.747554        -0.722733   \n",
      "1 2020-06-14 21:00:00        -0.761891        -0.747554        -0.722733   \n",
      "2 2020-06-14 22:00:00        -0.761891        -0.747554        -0.722733   \n",
      "3 2020-06-14 23:00:00        -0.761891        -0.747554        -0.722733   \n",
      "4 2020-06-15 00:00:00        -0.761891        -0.747554        -0.722733   \n",
      "\n",
      "   ac_power_lag_7d  ac_power_lag_30d  rolling_mean_7d  rolling_std_7d  \\\n",
      "0         -0.77129         -0.758475         0.919519        1.018861   \n",
      "1         -0.77129         -0.758475         0.919519        1.018861   \n",
      "2         -0.77129         -0.758475         0.919519        1.018861   \n",
      "3         -0.77129         -0.758475         0.919519        1.018861   \n",
      "4         -0.77129         -0.758475         0.919519        1.018861   \n",
      "\n",
      "   rolling_max_7d  \n",
      "0    2.273737e-13  \n",
      "1    2.273737e-13  \n",
      "2    2.273737e-13  \n",
      "3    2.273737e-13  \n",
      "4    2.273737e-13  \n"
     ]
    }
   ],
   "source": [
    "# Show sample features (first few rows and columns)\n",
    "print(\"SAMPLE FEATURES (X):\")\n",
    "display_cols = ['DATE_TIME'] + feature_names[:8]\n",
    "print(X[display_cols].head())"
   ]
  },
  {
   "cell_type": "code",
   "execution_count": 13,
   "id": "7bd0dcd4-7415-4796-b8ba-2120f7cb22f9",
   "metadata": {},
   "outputs": [
    {
     "name": "stdout",
     "output_type": "stream",
     "text": [
      "\n",
      "SAMPLE TARGETS (y) - First 5 prediction hours:\n",
      "   ac_power_1h  ac_power_2h  ac_power_3h  ac_power_4h  ac_power_5h\n",
      "0          0.0          0.0          0.0          0.0          0.0\n",
      "1          0.0          0.0          0.0          0.0          0.0\n",
      "2          0.0          0.0          0.0          0.0          0.0\n",
      "3          0.0          0.0          0.0          0.0          0.0\n",
      "4          0.0          0.0          0.0          0.0          0.0\n"
     ]
    }
   ],
   "source": [
    "# Show sample targets (first few rows and hours)\n",
    "print(\"\\nSAMPLE TARGETS (y) - First 5 prediction hours:\")\n",
    "target_cols = [f'ac_power_{h}h' for h in range(1, 6)]\n",
    "print(y[target_cols].head())"
   ]
  },
  {
   "cell_type": "markdown",
   "id": "aeba827e-fabb-41ab-8b3a-6dae9b94c007",
   "metadata": {},
   "source": [
    "## 8. Test Midnight Prediction (Operational Mode)"
   ]
  },
  {
   "cell_type": "code",
   "execution_count": 14,
   "id": "e07e685a-f92c-4066-94d0-aadcfca6b94d",
   "metadata": {},
   "outputs": [
    {
     "name": "stderr",
     "output_type": "stream",
     "text": [
      "INFO:src.data.preprocessor:Preparing midnight prediction for 2020-06-10\n",
      "INFO:src.data.preprocessor:Creating historical lag features...\n",
      "INFO:src.data.preprocessor:Created 5 lag features and 2 rolling features\n",
      "INFO:src.data.preprocessor:Creating temporal features for future dates...\n",
      "INFO:src.data.preprocessor:Created 16 temporal features\n",
      "INFO:src.data.preprocessor:Midnight prediction features prepared: (2, 32)\n"
     ]
    },
    {
     "name": "stdout",
     "output_type": "stream",
     "text": [
      "MIDNIGHT PREDICTION TEST:\n",
      "   Prediction date: 2020-06-10\n",
      "   Features shape: (2, 32)\n",
      "   Feature timestamp: 2020-06-09 23:00:00\n",
      "   Operational mode: READY\n"
     ]
    }
   ],
   "source": [
    "# Test operational midnight prediction\n",
    "test_date = \"2020-06-10\"  # Pick a date in the middle of our data\n",
    "\n",
    "try:\n",
    "    midnight_features = preprocessor.prepare_midnight_prediction(df, test_date)\n",
    "    print(f\"MIDNIGHT PREDICTION TEST:\")\n",
    "    print(f\"   Prediction date: {test_date}\")\n",
    "    print(f\"   Features shape: {midnight_features.shape}\")\n",
    "    print(f\"   Feature timestamp: {midnight_features['DATE_TIME'].iloc[0]}\")\n",
    "    print(f\"   Operational mode: READY\")\n",
    "except Exception as e:\n",
    "    print(f\"❌ Midnight prediction failed: {e}\")"
   ]
  },
  {
   "cell_type": "markdown",
   "id": "8a76b336-5b9c-47ef-b608-489da8e8d313",
   "metadata": {},
   "source": [
    "## 9. Data Leakage Verification"
   ]
  },
  {
   "cell_type": "code",
   "execution_count": 15,
   "id": "01b945b2-4b91-4a3c-838a-6550350b1ea3",
   "metadata": {},
   "outputs": [
    {
     "name": "stdout",
     "output_type": "stream",
     "text": [
      "DATA LEAKAGE CHECK:\n",
      "   Forbidden features found: 0\n",
      "   NO LEAKAGE: All features are historical/temporal only\n"
     ]
    }
   ],
   "source": [
    "# Final verification: NO FORBIDDEN FEATURES\n",
    "forbidden_features = [\n",
    "    'AMBIENT_TEMPERATURE', 'MODULE_TEMPERATURE', 'IRRADIATION',\n",
    "    'temp_difference', 'temp_ratio', 'irradiation_per_temp',\n",
    "    'power_efficiency', 'temp_irradiation_interaction'\n",
    "]\n",
    "\n",
    "forbidden_found = [f for f in forbidden_features if f in feature_names]\n",
    "\n",
    "print(f\"DATA LEAKAGE CHECK:\")\n",
    "print(f\"   Forbidden features found: {len(forbidden_found)}\")\n",
    "if forbidden_found:\n",
    "    print(f\"   LEAKAGE DETECTED: {forbidden_found}\")\n",
    "else:\n",
    "    print(f\"   NO LEAKAGE: All features are historical/temporal only\")"
   ]
  },
  {
   "cell_type": "markdown",
   "id": "e8d4bfa1-9b23-429a-a7ea-550db67f1668",
   "metadata": {},
   "source": [
    "## 10. Test Save and Load"
   ]
  },
  {
   "cell_type": "code",
   "execution_count": 16,
   "id": "5ac3bdc6-bb41-4dc6-8bb1-373f759d10d3",
   "metadata": {},
   "outputs": [
    {
     "name": "stderr",
     "output_type": "stream",
     "text": [
      "INFO:src.data.preprocessor:Preprocessor saved to: solar_forecasting_preprocessor.pkl\n"
     ]
    },
    {
     "name": "stdout",
     "output_type": "stream",
     "text": [
      "Preprocessor saved\n"
     ]
    }
   ],
   "source": [
    "# Save fitted preprocessor\n",
    "preprocessor.save_preprocessor('solar_forecasting_preprocessor.pkl')\n",
    "print(\"Preprocessor saved\")"
   ]
  },
  {
   "cell_type": "code",
   "execution_count": 17,
   "id": "e7537140-76c9-47ea-a0a8-ad9baf12b071",
   "metadata": {},
   "outputs": [
    {
     "name": "stderr",
     "output_type": "stream",
     "text": [
      "INFO:src.data.preprocessor:Preprocessor loaded from: solar_forecasting_preprocessor.pkl\n"
     ]
    },
    {
     "name": "stdout",
     "output_type": "stream",
     "text": [
      "Preprocessor loaded: fitted=True\n",
      "   Features count: 31\n",
      "   Forecast horizon: 24h\n"
     ]
    }
   ],
   "source": [
    "# Load and verify\n",
    "loaded_preprocessor = SolarForecastingPreprocessor.load_preprocessor('solar_forecasting_preprocessor.pkl')\n",
    "print(f\"Preprocessor loaded: fitted={loaded_preprocessor.is_fitted}\")\n",
    "print(f\"   Features count: {len(loaded_preprocessor.get_feature_names())}\")\n",
    "print(f\"   Forecast horizon: {loaded_preprocessor.forecast_horizon}h\")"
   ]
  },
  {
   "cell_type": "markdown",
   "id": "52b8e9ab-3c3b-408d-8fb6-7af6534540a0",
   "metadata": {},
   "source": [
    "## 11. Quick Data Visualization "
   ]
  },
  {
   "cell_type": "code",
   "execution_count": 18,
   "id": "1ccee2d7-c0cf-413b-b43c-f32f9ace2d32",
   "metadata": {},
   "outputs": [
    {
     "data": {
      "image/png": "[encoded data removed]",
      "text/plain": [
       "<Figure size 1200x800 with 2 Axes>"
      ]
     },
     "metadata": {},
     "output_type": "display_data"
    }
   ],
   "source": [
    "import matplotlib.pyplot as plt\n",
    "\n",
    "# Plot sample AC_POWER time series\n",
    "fig, (ax1, ax2) = plt.subplots(2, 1, figsize=(12, 8))\n",
    "\n",
    "# Original time series (last 7 days)\n",
    "last_week = df.tail(7*24)\n",
    "ax1.plot(last_week['DATE_TIME'], last_week['AC_POWER'])\n",
    "ax1.set_title('Solar Power Generation - Last 7 Days')\n",
    "ax1.set_ylabel('AC Power (kW)')\n",
    "ax1.grid(True)\n",
    "\n",
    "# Target distribution (all forecast hours)\n",
    "y_flat = y.values.flatten()\n",
    "ax2.hist(y_flat[y_flat > 0], bins=50, alpha=0.7)\n",
    "ax2.set_title('Distribution of Forecast Targets (AC Power > 0)')\n",
    "ax2.set_xlabel('AC Power (kW)')\n",
    "ax2.set_ylabel('Frequency')\n",
    "ax2.grid(True)\n",
    "\n",
    "plt.tight_layout()\n",
    "plt.show()"
   ]
  }
 ],
 "metadata": {
  "kernelspec": {
   "display_name": "Python 3 (ipykernel)",
   "language": "python",
   "name": "python3"
  },
  "language_info": {
   "codemirror_mode": {
    "name": "ipython",
    "version": 3
   },
   "file_extension": ".py",
   "mimetype": "text/x-python",
   "name": "python",
   "nbconvert_exporter": "python",
   "pygments_lexer": "ipython3",
   "version": "3.11.13"
  }
 },
 "nbformat": 4,
 "nbformat_minor": 5
}
